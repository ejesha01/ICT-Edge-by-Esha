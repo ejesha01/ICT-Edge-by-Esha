{
  "nbformat": 4,
  "nbformat_minor": 0,
  "metadata": {
    "colab": {
      "provenance": [],
      "mount_file_id": "10UZpLcYWjgsWshJbm4WGx1-bxIGLGq-X",
      "authorship_tag": "ABX9TyO6AqZ/f21id3iG8zlPjh7+",
      "include_colab_link": true
    },
    "kernelspec": {
      "name": "python3",
      "display_name": "Python 3"
    },
    "language_info": {
      "name": "python"
    }
  },
  "cells": [
    {
      "cell_type": "markdown",
      "metadata": {
        "id": "view-in-github",
        "colab_type": "text"
      },
      "source": [
        "<a href=\"https://colab.research.google.com/github/ejesha01/ICT-Edge-by-Esha/blob/main/Assignment1.ipynb\" target=\"_parent\"><img src=\"https://colab.research.google.com/assets/colab-badge.svg\" alt=\"Open In Colab\"/></a>"
      ]
    },
    {
      "cell_type": "code",
      "execution_count": 1,
      "metadata": {
        "colab": {
          "base_uri": "https://localhost:8080/"
        },
        "id": "HBHPAlZMd7JZ",
        "outputId": "4ba849e4-71f2-419d-dd59-6bd308f866da"
      },
      "outputs": [
        {
          "output_type": "execute_result",
          "data": {
            "text/plain": [
              "['98=b',\n",
              " '100=d',\n",
              " '102=f',\n",
              " '104=h',\n",
              " '106=j',\n",
              " '108=l',\n",
              " '110=n',\n",
              " '112=p',\n",
              " '114=r',\n",
              " '116=t',\n",
              " '118=v',\n",
              " '120=x',\n",
              " '122=z']"
            ]
          },
          "metadata": {},
          "execution_count": 1
        }
      ],
      "source": [
        "[str(c)+\"=\"+chr(c) for c in range(ord('a'), ord('z')+1) if c%2==0]"
      ]
    }
  ]
}